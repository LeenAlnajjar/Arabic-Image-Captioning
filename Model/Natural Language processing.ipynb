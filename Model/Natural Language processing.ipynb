{
 "cells": [
  {
   "cell_type": "markdown",
   "id": "d9126b5f",
   "metadata": {},
   "source": [
    "# Natural Language processing "
   ]
  },
  {
   "attachments": {
    "image.png": {
     "image/png": "[encoded data removed]"
    }
   },
   "cell_type": "markdown",
   "id": "a8b3ef37",
   "metadata": {},
   "source": [
    "The text should be completely clean before pass it to the deep learning model, to do the cleaning process, tere are set of steps to ensure that the test is cleaned.\n",
    "<div>\n",
    "<img src=\"attachment:image.png\" width=\"600\"/>\n",
    "</div>"
   ]
  },
  {
   "cell_type": "markdown",
   "id": "2d03e6b7",
   "metadata": {},
   "source": [
    "### Load the required libraries:"
   ]
  },
  {
   "cell_type": "code",
   "execution_count": 5,
   "id": "67f38f9c",
   "metadata": {},
   "outputs": [],
   "source": [
    "import pandas as pd\n",
    "import numpy as np\n",
    "import nltk\n",
    "from nltk import word_tokenize\n",
    "import pyarabic.araby as ar                                     \n",
    "import string                         \n",
    "import re                        \n",
    "from nltk.corpus import stopwords            \n",
    "from nltk.stem.porter import PorterStemmer   \n",
    "from nltk.stem import SnowballStemmer\n",
    "from pyarabic.araby import strip_harakat\n",
    "from pyarabic.araby import strip_tashkeel\n",
    "from pyarabic.araby import strip_diacritics\n",
    "from pyarabic.araby import strip_tatweel, strip_shadda\n",
    "from pyarabic.araby import normalize_ligature\n",
    "import pyarabic.number\n",
    "from string import punctuation"
   ]
  },
  {
   "cell_type": "markdown",
   "id": "90524c58",
   "metadata": {},
   "source": [
    "### Load the required document:"
   ]
  },
  {
   "cell_type": "markdown",
   "id": "93e34614",
   "metadata": {},
   "source": [
    "The caption file named as 'arabic_captions_path='C:\\\\Users\\\\hp\\\\Desktop\\\\Personal files\\\\HTU\\\\python\\\\project\\\\Dataset\\\\Flickr8k_text\\\\Flickr8k.arabic.full.txt'' contains 24000 captions , and image ID associated with each caption, accordingly, the fisrst step is to split the captions in seperate file."
   ]
  },
  {
   "cell_type": "code",
   "execution_count": 9,
   "id": "33e520b0",
   "metadata": {},
   "outputs": [],
   "source": [
    "def load_document(filename):\n",
    "    file=open(filename,'r',encoding='utf-8')\n",
    "    text=file.read()\n",
    "    file.close()\n",
    "    return text"
   ]
  },
  {
   "cell_type": "code",
   "execution_count": 10,
   "id": "63f86af2",
   "metadata": {},
   "outputs": [
    {
     "data": {
      "text/html": [
       "<div>\n",
       "<style scoped>\n",
       "    .dataframe tbody tr th:only-of-type {\n",
       "        vertical-align: middle;\n",
       "    }\n",
       "\n",
       "    .dataframe tbody tr th {\n",
       "        vertical-align: top;\n",
       "    }\n",
       "\n",
       "    .dataframe thead th {\n",
       "        text-align: right;\n",
       "    }\n",
       "</style>\n",
       "<table border=\"1\" class=\"dataframe\">\n",
       "  <thead>\n",
       "    <tr style=\"text-align: right;\">\n",
       "      <th></th>\n",
       "      <th>index</th>\n",
       "      <th>file</th>\n",
       "      <th>caption</th>\n",
       "    </tr>\n",
       "  </thead>\n",
       "  <tbody>\n",
       "    <tr>\n",
       "      <th>0</th>\n",
       "      <td>0</td>\n",
       "      <td>1000268201_693b08cb0e.jpg</td>\n",
       "      <td>طفلة صغيرة تتسلق إلى مسرح خشبي</td>\n",
       "    </tr>\n",
       "    <tr>\n",
       "      <th>1</th>\n",
       "      <td>1</td>\n",
       "      <td>1000268201_693b08cb0e.jpg</td>\n",
       "      <td>طفلة صغيرة تتسلق الدرج إلى منزلها</td>\n",
       "    </tr>\n",
       "    <tr>\n",
       "      <th>2</th>\n",
       "      <td>2</td>\n",
       "      <td>1000268201_693b08cb0e.jpg</td>\n",
       "      <td>فتاة صغيرة في ثوب وردي تذهب إلى المقصورة الخشبية</td>\n",
       "    </tr>\n",
       "    <tr>\n",
       "      <th>3</th>\n",
       "      <td>0</td>\n",
       "      <td>1001773457_577c3a7d70.jpg</td>\n",
       "      <td>كلب أسود وكلب ثلاثي الألوان يلعبان مع بعضهما ا...</td>\n",
       "    </tr>\n",
       "    <tr>\n",
       "      <th>4</th>\n",
       "      <td>1</td>\n",
       "      <td>1001773457_577c3a7d70.jpg</td>\n",
       "      <td>كلب أسود وكلب أبيض ببقع بنية يحدقان في بعضهما ...</td>\n",
       "    </tr>\n",
       "  </tbody>\n",
       "</table>\n",
       "</div>"
      ],
      "text/plain": [
       "  index                       file  \\\n",
       "0     0  1000268201_693b08cb0e.jpg   \n",
       "1     1  1000268201_693b08cb0e.jpg   \n",
       "2     2  1000268201_693b08cb0e.jpg   \n",
       "3     0  1001773457_577c3a7d70.jpg   \n",
       "4     1  1001773457_577c3a7d70.jpg   \n",
       "\n",
       "                                             caption  \n",
       "0                     طفلة صغيرة تتسلق إلى مسرح خشبي  \n",
       "1                  طفلة صغيرة تتسلق الدرج إلى منزلها  \n",
       "2   فتاة صغيرة في ثوب وردي تذهب إلى المقصورة الخشبية  \n",
       "3  كلب أسود وكلب ثلاثي الألوان يلعبان مع بعضهما ا...  \n",
       "4  كلب أسود وكلب أبيض ببقع بنية يحدقان في بعضهما ...  "
      ]
     },
     "execution_count": 10,
     "metadata": {},
     "output_type": "execute_result"
    }
   ],
   "source": [
    "#Create data frame that shows all captions:\n",
    "datatxt = []\n",
    "for line in text.split('\\n'):\n",
    "   col = line.split('\\t')#Split the captions to array of image ID and captions\n",
    "   if len(col) == 1:#To skip short captions \"في.المنطقة.المشجرة\"\n",
    "       continue\n",
    "   w = col[0].split(\"#\")#To remove the extension from the image id\n",
    "   datatxt.append(w + [col[1].lower()])\n",
    "\n",
    "data = pd.DataFrame(datatxt,columns=[\"file\",\"index\",\"caption\"])\n",
    "data = data.reindex(columns =['index','file','caption'])\n",
    "data = data[data.file != '2258277193_586949ec62.jpg']\n",
    "uni_filenames = np.unique(data.file.values)\n",
    "\n",
    "data.head()"
   ]
  },
  {
   "cell_type": "markdown",
   "id": "423e8d97",
   "metadata": {},
   "source": [
    "### Text cleaning and preparation:"
   ]
  },
  {
   "cell_type": "markdown",
   "id": "6dc04353",
   "metadata": {},
   "source": [
    "Prepare the text for by clean it from the unrequired elements as mentioned above:\n",
    "1. Remove the punctuations.\n",
    "2. Remove any single character.\n",
    "3. Remove the numeric values by replacing them with Arabic number words.\n",
    "4. Remove the defining words which is called (ال التعريف).\n",
    "5. Remove the Harakat from the text."
   ]
  },
  {
   "cell_type": "code",
   "execution_count": 3,
   "id": "8142ca51",
   "metadata": {},
   "outputs": [
    {
     "name": "stderr",
     "output_type": "stream",
     "text": [
      "[nltk_data] Downloading package punkt to\n",
      "[nltk_data]     C:\\Users\\hp\\AppData\\Roaming\\nltk_data...\n",
      "[nltk_data]   Package punkt is already up-to-date!\n"
     ]
    }
   ],
   "source": [
    "nltk.download('punkt') # Download the english punctuation\n",
    "arabic_punctuations = '''`÷×؛<>_()*&^%][ـ،/:\"؟.,'{}~¦+|!”…“–ـ'''\n",
    "english_punctuations = string.punctuation     # Get all the special characters.   \n",
    "punctuations_list = arabic_punctuations + english_punctuations "
   ]
  },
  {
   "cell_type": "code",
   "execution_count": 11,
   "id": "285c6543",
   "metadata": {},
   "outputs": [],
   "source": [
    "def remove_punctuations(data):\n",
    "    return ''.join([c for c in data if c not in punctuations_list])\n",
    "#def remove_punctuation(text):\n",
    "    #text_no_punctuation = re.sub(r'[^\\w\\s]', '', text)\n",
    "    #return text_no_punctuation\n",
    "\n",
    "def remove_single_character(text):\n",
    "    text_len_more_than1 = \"\"\n",
    "    for word in text.split():\n",
    "        if len(word) > 1:\n",
    "            text_len_more_than1 += \" \" + word\n",
    "    return(text_len_more_than1)\n",
    "\n",
    "def remove_numeric(text):\n",
    "    # Use regular expression to extract all Arabic numerals from the text\n",
    "    numerals = re.findall(r'\\d+', text)\n",
    "    # Convert each numeral to its corresponding word form\n",
    "    an = pyarabic.number.ArNumbers()\n",
    "    text_no_numeric = text\n",
    "    for numeral in numerals:\n",
    "        word_form = an.int2str((numeral))\n",
    "        text_no_numeric = text_no_numeric.replace(numeral, word_form)\n",
    "    return text_no_numeric\n",
    " \n",
    "def remove_defining_words(text):\n",
    "    text_with_no_defining_chr=re.sub(r'\\bال(\\w\\w+)', r'\\1', text)\n",
    "    return text_with_no_defining_chr\n",
    "\n",
    "\n",
    "def remove_harakat(text):\n",
    "    text_no_harakat=strip_tashkeel(text)\n",
    "    text_no_diacritics=strip_diacritics(text_no_harakat)\n",
    "    text_no_tatweel=strip_tatweel(text_no_diacritics)\n",
    "    text_wihout_english=re.sub(r'[a-zA-Z]+', '',text_no_tatweel)\n",
    "    return (text_wihout_english)\n",
    "\n",
    "def clean_text(data):\n",
    "    text = remove_punctuations(data)\n",
    "    text = remove_numeric(text)\n",
    "    text = remove_single_character(text)\n",
    "    text=remove_defining_words(text)\n",
    "    text=remove_harakat(text)\n",
    "    return(text)\n",
    "\n",
    "\n",
    "for i, caption in enumerate(data.caption.values):\n",
    "   cleaned_text = clean_text(caption)\n",
    "   data[\"caption\"].iloc[i] = cleaned_text"
   ]
  },
  {
   "cell_type": "code",
   "execution_count": 12,
   "id": "b2aeba86",
   "metadata": {},
   "outputs": [
    {
     "data": {
      "text/html": [
       "<div>\n",
       "<style scoped>\n",
       "    .dataframe tbody tr th:only-of-type {\n",
       "        vertical-align: middle;\n",
       "    }\n",
       "\n",
       "    .dataframe tbody tr th {\n",
       "        vertical-align: top;\n",
       "    }\n",
       "\n",
       "    .dataframe thead th {\n",
       "        text-align: right;\n",
       "    }\n",
       "</style>\n",
       "<table border=\"1\" class=\"dataframe\">\n",
       "  <thead>\n",
       "    <tr style=\"text-align: right;\">\n",
       "      <th></th>\n",
       "      <th>index</th>\n",
       "      <th>file</th>\n",
       "      <th>caption</th>\n",
       "    </tr>\n",
       "  </thead>\n",
       "  <tbody>\n",
       "    <tr>\n",
       "      <th>0</th>\n",
       "      <td>0</td>\n",
       "      <td>1000268201_693b08cb0e.jpg</td>\n",
       "      <td>طفلة صغيرة تتسلق إلى مسرح خشبي</td>\n",
       "    </tr>\n",
       "    <tr>\n",
       "      <th>1</th>\n",
       "      <td>1</td>\n",
       "      <td>1000268201_693b08cb0e.jpg</td>\n",
       "      <td>طفلة صغيرة تتسلق درج إلى منزلها</td>\n",
       "    </tr>\n",
       "    <tr>\n",
       "      <th>2</th>\n",
       "      <td>2</td>\n",
       "      <td>1000268201_693b08cb0e.jpg</td>\n",
       "      <td>فتاة صغيرة في ثوب وردي تذهب إلى مقصورة خشبية</td>\n",
       "    </tr>\n",
       "    <tr>\n",
       "      <th>3</th>\n",
       "      <td>0</td>\n",
       "      <td>1001773457_577c3a7d70.jpg</td>\n",
       "      <td>كلب أسود وكلب ثلاثي ألوان يلعبان مع بعضهما بع...</td>\n",
       "    </tr>\n",
       "    <tr>\n",
       "      <th>4</th>\n",
       "      <td>1</td>\n",
       "      <td>1001773457_577c3a7d70.jpg</td>\n",
       "      <td>كلب أسود وكلب أبيض ببقع بنية يحدقان في بعضهما...</td>\n",
       "    </tr>\n",
       "    <tr>\n",
       "      <th>...</th>\n",
       "      <td>...</td>\n",
       "      <td>...</td>\n",
       "      <td>...</td>\n",
       "    </tr>\n",
       "    <tr>\n",
       "      <th>24268</th>\n",
       "      <td>1</td>\n",
       "      <td>997338199_7343367d7f.jpg</td>\n",
       "      <td>امرأة تقف بالقرب من جدار مزخرف تكتب</td>\n",
       "    </tr>\n",
       "    <tr>\n",
       "      <th>24269</th>\n",
       "      <td>2</td>\n",
       "      <td>997338199_7343367d7f.jpg</td>\n",
       "      <td>جدران مغطاة بالذهب والأنماط</td>\n",
       "    </tr>\n",
       "    <tr>\n",
       "      <th>24270</th>\n",
       "      <td>0</td>\n",
       "      <td>997722733_0cb5439472.jpg</td>\n",
       "      <td>رجل يرتدي قميصا ورديا يتسلق وجها صخريا</td>\n",
       "    </tr>\n",
       "    <tr>\n",
       "      <th>24271</th>\n",
       "      <td>1</td>\n",
       "      <td>997722733_0cb5439472.jpg</td>\n",
       "      <td>رجل يتسلق صخور في هواء</td>\n",
       "    </tr>\n",
       "    <tr>\n",
       "      <th>24272</th>\n",
       "      <td>2</td>\n",
       "      <td>997722733_0cb5439472.jpg</td>\n",
       "      <td>متسلق صخرة في قميص أحمر</td>\n",
       "    </tr>\n",
       "  </tbody>\n",
       "</table>\n",
       "<p>24273 rows × 3 columns</p>\n",
       "</div>"
      ],
      "text/plain": [
       "      index                       file  \\\n",
       "0         0  1000268201_693b08cb0e.jpg   \n",
       "1         1  1000268201_693b08cb0e.jpg   \n",
       "2         2  1000268201_693b08cb0e.jpg   \n",
       "3         0  1001773457_577c3a7d70.jpg   \n",
       "4         1  1001773457_577c3a7d70.jpg   \n",
       "...     ...                        ...   \n",
       "24268     1   997338199_7343367d7f.jpg   \n",
       "24269     2   997338199_7343367d7f.jpg   \n",
       "24270     0   997722733_0cb5439472.jpg   \n",
       "24271     1   997722733_0cb5439472.jpg   \n",
       "24272     2   997722733_0cb5439472.jpg   \n",
       "\n",
       "                                                 caption  \n",
       "0                         طفلة صغيرة تتسلق إلى مسرح خشبي  \n",
       "1                        طفلة صغيرة تتسلق درج إلى منزلها  \n",
       "2           فتاة صغيرة في ثوب وردي تذهب إلى مقصورة خشبية  \n",
       "3       كلب أسود وكلب ثلاثي ألوان يلعبان مع بعضهما بع...  \n",
       "4       كلب أسود وكلب أبيض ببقع بنية يحدقان في بعضهما...  \n",
       "...                                                  ...  \n",
       "24268                امرأة تقف بالقرب من جدار مزخرف تكتب  \n",
       "24269                        جدران مغطاة بالذهب والأنماط  \n",
       "24270             رجل يرتدي قميصا ورديا يتسلق وجها صخريا  \n",
       "24271                             رجل يتسلق صخور في هواء  \n",
       "24272                            متسلق صخرة في قميص أحمر  \n",
       "\n",
       "[24273 rows x 3 columns]"
      ]
     },
     "execution_count": 12,
     "metadata": {},
     "output_type": "execute_result"
    }
   ],
   "source": [
    "data"
   ]
  },
  {
   "cell_type": "code",
   "execution_count": 13,
   "id": "3a3862b8",
   "metadata": {},
   "outputs": [
    {
     "data": {
      "text/plain": [
       "' ذهبت إلى حديقة وشاهدت أربع فتيات يطعمن بط ويساعدن محتاجين'"
      ]
     },
     "execution_count": 13,
     "metadata": {},
     "output_type": "execute_result"
    }
   ],
   "source": [
    "###### An example of how the captions will looks like:\n",
    "text='ذَهبتُ إلى الحديقةِ وشاهدت 4 فتيات يطعمنَ البط، ويساعدن المحتاجين!'\n",
    "clean_text(text)"
   ]
  },
  {
   "cell_type": "markdown",
   "id": "b3955faf",
   "metadata": {},
   "source": [
    "### Save the cleaned text file"
   ]
  },
  {
   "cell_type": "code",
   "execution_count": null,
   "id": "9f13552a",
   "metadata": {},
   "outputs": [],
   "source": [
    "# Update the function to take the cleaned captions and the desired file name and location\n",
    "def save_descriptions(descriptions, filename):\n",
    "    with open(filename, 'w',encoding='utf-8') as file:\n",
    "        for desc in descriptions:\n",
    "            file.write(desc + '\\n')\n",
    "\n",
    "# Define the desired file name and location on the desktop\n",
    "#cleaned_captions = 'C:\\\\Users\\\\hp\\\\Desktop\\\\Personal files\\\\HTU\\\\python\\\\project\\\\workingfile\\\\captions\\\\clean_text.txt'\n",
    "\n",
    "# Collect the cleaned captions in a list\n",
    "cleaned_captions = []\n",
    "for i, caption in enumerate(data.caption.values):\n",
    "   cleaned_text = clean_text(caption)\n",
    "   cleaned_captions.append(cleaned_text)\n",
    "   data[\"caption\"].iloc[i] = cleaned_text\n",
    "# Save the cleaned captions to the desired file\n",
    "save_descriptions(cleaned_captions, cleaned_captions) "
   ]
  }
 ],
 "metadata": {
  "kernelspec": {
   "display_name": "Python 3 (ipykernel)",
   "language": "python",
   "name": "python3"
  },
  "language_info": {
   "codemirror_mode": {
    "name": "ipython",
    "version": 3
   },
   "file_extension": ".py",
   "mimetype": "text/x-python",
   "name": "python",
   "nbconvert_exporter": "python",
   "pygments_lexer": "ipython3",
   "version": "3.9.15"
  }
 },
 "nbformat": 4,
 "nbformat_minor": 5
}
